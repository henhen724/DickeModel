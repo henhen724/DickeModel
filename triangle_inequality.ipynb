{
 "cells": [
  {
   "cell_type": "code",
   "execution_count": 85,
   "metadata": {},
   "outputs": [
    {
     "name": "stdout",
     "output_type": "stream",
     "text": [
      "Triangle inequality satisfied for all values!\n"
     ]
    },
    {
     "data": {
      "text/plain": [
       "true"
      ]
     },
     "metadata": {},
     "output_type": "display_data"
    }
   ],
   "source": [
    "function mod_positive(x::Int, n::Int)::Int\n",
    "    # Handle negative numbers and ensure result is in [0, n-1]\n",
    "    return ((x % n) + n) % n\n",
    "end\n",
    "\n",
    "function cyclic_character(g::Int, representation::Int, n::Int)\n",
    "    return exp(2im*pi*g*representation/n)\n",
    "end\n",
    "\n",
    "function cyclic_irrep_distance(a::Int,b::Int,representation::Int,n::Int)\n",
    "    return sqrt(1 - real(cyclic_character(a-b,representation,n)))\n",
    "end\n",
    "\n",
    "\n",
    "function d_new(a::Int,b::Int)\n",
    "    return  sqrt(2*cyclic_irrep_distance(a,b,1,4)^2 - (0.5 - 1e-10)*cyclic_irrep_distance(a,b,2,4)^2)\n",
    "end\n",
    "\n",
    "# Test triangle inequality for d_new\n",
    "# For all a,b,c in {0,1,2,3}, verify d_new(a,c) ≤ d_new(a,b) + d_new(b,c)\n",
    "\n",
    "function verify_triangle_inequality(set, distance_fn)\n",
    "    for a in set\n",
    "        for b in set\n",
    "            for c in set\n",
    "                # Calculate distances\n",
    "                d_ac = distance_fn(a,c)\n",
    "                d_ab = distance_fn(a,b)\n",
    "                d_bc = distance_fn(b,c)\n",
    "                \n",
    "                # Check all distances are positive\n",
    "                if d_ac < 0 || d_ab < 0 || d_bc < 0\n",
    "                    println(\"Negative distance found:\")\n",
    "                    println(\"d($a,$c) = $d_ac\")\n",
    "                    println(\"d($a,$b) = $d_ab\") \n",
    "                    println(\"d($b,$c) = $d_bc\")\n",
    "                end\n",
    "\n",
    "                # Check triangle inequality\n",
    "                if d_ac - 1e-8 > d_ab + d_bc\n",
    "                    println(\"Triangle inequality violated for a=$a, b=$b, c=$c\")\n",
    "                    println(\"d($a,$c) = $d_ac > $d_ab + $d_bc = d($a,$b) + d($b,$c)\")\n",
    "                    return false\n",
    "                end\n",
    "            end\n",
    "        end\n",
    "    end\n",
    "    println(\"Triangle inequality satisfied for all values!\")\n",
    "    return true\n",
    "end\n",
    "\n",
    "# Run verification\n",
    "verify_triangle_inequality(0:3, d_new)\n"
   ]
  },
  {
   "cell_type": "code",
   "execution_count": 86,
   "metadata": {},
   "outputs": [
    {
     "name": "stdout",
     "output_type": "stream",
     "text": [
      "\\begin{tabular}{cccccc}\n",
      "\\hline\n",
      "$a$ & $b$ & $d(id,a)$ & $d(id,b) + d(b,a)$ & Satisfied? \\\\\n",
      "\\hline\n",
      "0 & 0 & $0$ & $0 + 0$ & Yes \\\\\n",
      "0 & 1 & $0$ & $1 + 1$ & Yes \\\\\n",
      "0 & 2 & $0$ & $2 + 2$ & Yes \\\\\n",
      "0 & 3 & $0$ & $1 + 1$ & Yes \\\\\n",
      "1 & 0 & $1$ & $0 + 1$ & Yes \\\\\n",
      "1 & 1 & $1$ & $1 + 0$ & Yes \\\\\n",
      "1 & 2 & $1$ & $2 + 1$ & Yes \\\\\n",
      "1 & 3 & $1$ & $1 + 2$ & Yes \\\\\n",
      "2 & 0 & $2$ & $0 + 2$ & Yes \\\\\n",
      "2 & 1 & $2$ & $1 + 1$ & Yes \\\\\n",
      "2 & 2 & $2$ & $2 + 0$ & Yes \\\\\n",
      "2 & 3 & $2$ & $1 + 1$ & Yes \\\\\n",
      "3 & 0 & $1$ & $0 + 1$ & Yes \\\\\n",
      "3 & 1 & $1$ & $1 + 2$ & Yes \\\\\n",
      "3 & 2 & $1$ & $2 + 1$ & Yes \\\\\n",
      "3 & 3 & $1$ & $1 + 0$ & Yes \\\\\n",
      "\\hline\n",
      "\\end{tabular}\n"
     ]
    }
   ],
   "source": [
    "using Printf\n",
    "\n",
    "# Create a LaTeX table showing all triangle inequality checks\n",
    "println(\"\\\\begin{tabular}{cccccc}\")\n",
    "println(\"\\\\hline\")\n",
    "println(\"\\$a\\$ & \\$b\\$ & \\$d(id,a)\\$ & \\$d(id,b) + d(b,a)\\$ & Satisfied? \\\\\\\\\")\n",
    "println(\"\\\\hline\")\n",
    "\n",
    "for a in 0:3\n",
    "    for b in 0:3\n",
    "        d_ac = d_new(0,a)\n",
    "        d_ab = d_new(0,b)\n",
    "        d_bc = d_new(b,a)\n",
    "        satisfied = d_ac - 1e-8 <= d_ab + d_bc\n",
    "        \n",
    "        # Convert to exact form with square roots\n",
    "        function to_sqrt_str(x)\n",
    "            # Round to 12 decimal places to handle floating point errors\n",
    "            x = round(x^2, digits=8)\n",
    "            if isinteger(x)\n",
    "                if x == 1\n",
    "                    return \"1\"\n",
    "                elseif x == 0\n",
    "                    return \"0\"\n",
    "                else\n",
    "                    # Find largest perfect square factor\n",
    "                    n = Int(x)\n",
    "                    max_sqrt = Int(floor(sqrt(n)))\n",
    "                    for i in max_sqrt:-1:2\n",
    "                        if n % (i*i) == 0\n",
    "                            remaining = n ÷ (i*i)\n",
    "                            if remaining == 1\n",
    "                                return \"$i\"\n",
    "                            else\n",
    "                                return \"$i\\\\sqrt{$remaining}\"\n",
    "                            end\n",
    "                        end\n",
    "                    end\n",
    "                    return \"\\\\sqrt{$(Int(x))}\"\n",
    "                end\n",
    "            else\n",
    "                # For non-integer values, keep as is\n",
    "                return \"\\\\sqrt{$x}\"\n",
    "            end\n",
    "        end\n",
    "        \n",
    "        d_ac_str = to_sqrt_str(d_ac)\n",
    "        sum_str = \"$(to_sqrt_str(d_ab)) + $(to_sqrt_str(d_bc))\"\n",
    "        \n",
    "        println(\"$a & $b & \\$$d_ac_str\\$ & \\$$sum_str\\$ & $(satisfied ? \"Yes\" : \"No\") \\\\\\\\\")\n",
    "    end\n",
    "end\n",
    "\n",
    "println(\"\\\\hline\")\n",
    "println(\"\\\\end{tabular}\")\n"
   ]
  },
  {
   "cell_type": "code",
   "execution_count": 60,
   "metadata": {},
   "outputs": [
    {
     "name": "stdout",
     "output_type": "stream",
     "text": [
      "2.82842712474619\n",
      "2.82842712474619\n",
      "4.898979485566356\n"
     ]
    }
   ],
   "source": [
    "println(cyclic_irrep_distance(0,1,1,6))\n",
    "println(cyclic_irrep_distance(1,2,1,6))\n",
    "println(cyclic_irrep_distance(0,2,1,6))\n"
   ]
  },
  {
   "cell_type": "code",
   "execution_count": 61,
   "metadata": {},
   "outputs": [
    {
     "name": "stdout",
     "output_type": "stream",
     "text": [
      "χ₁(0) = 1.0 + 0.0im\n",
      "χ₁(1) = 0.5000000000000001 + 0.8660254037844386im\n",
      "χ₁(2) = -0.4999999999999998 + 0.8660254037844387im\n",
      "χ₁(3) = -1.0 + 1.2246467991473532e-16im\n",
      "χ₁(4) = -0.5000000000000004 - 0.8660254037844385im\n",
      "χ₁(5) = 0.5000000000000001 - 0.8660254037844386im\n"
     ]
    }
   ],
   "source": [
    "# Print cyclic character for first irrep of C6\n",
    "for k in 0:5\n",
    "    println(\"χ₁($k) = $(exp(2π*im*k*1/6))\")\n",
    "end\n"
   ]
  },
  {
   "cell_type": "code",
   "execution_count": 66,
   "metadata": {},
   "outputs": [
    {
     "name": "stdout",
     "output_type": "stream",
     "text": [
      "k=0: Square distance = 0.0, Irrep distance = 0.0\n",
      "k=1: Square distance = 0.9999999999999999, Irrep distance = 2.82842712474619\n",
      "k=2: Square distance = 1.7320508075688772, Irrep distance = 4.898979485566356\n",
      "k=3: Square distance = 2.0, Irrep distance = 5.656854249492381\n",
      "k=4: Square distance = 1.7320508075688776, Irrep distance = 4.898979485566357\n",
      "k=5: Square distance = 0.9999999999999999, Irrep distance = 2.82842712474619\n"
     ]
    }
   ],
   "source": [
    "# Compare square distance to irrep distance\n",
    "for k in 0:5\n",
    "    sq_dist = sqrt(abs(exp(2π*im*k/6) - 1)^2)\n",
    "    irrep_dist = cyclic_irrep_distance(k,0,1,6)\n",
    "    println(\"k=$k: Square distance = $sq_dist, Irrep distance = $irrep_dist\")\n",
    "end\n"
   ]
  },
  {
   "cell_type": "code",
   "execution_count": null,
   "metadata": {},
   "outputs": [],
   "source": []
  }
 ],
 "metadata": {
  "kernelspec": {
   "display_name": "Julia 1.11.4",
   "language": "julia",
   "name": "julia-1.11"
  },
  "language_info": {
   "file_extension": ".jl",
   "mimetype": "application/julia",
   "name": "julia",
   "version": "1.11.4"
  }
 },
 "nbformat": 4,
 "nbformat_minor": 2
}
